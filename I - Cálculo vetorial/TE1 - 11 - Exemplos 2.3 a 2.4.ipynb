{
 "cells": [
  {
   "cell_type": "code",
   "execution_count": 3,
   "id": "f7fdb858",
   "metadata": {
    "code_folding": [
     1,
     18
    ]
   },
   "outputs": [],
   "source": [
    "# Auxiliares para escrever\n",
    "def cart(v):\n",
    "    ax = r'\\mathbf{a}_x'\n",
    "    ay = r'\\mathbf{a}_y'\n",
    "    az = r'\\mathbf{a}_z'\n",
    "    aa = [ax,ay,az]\n",
    "    ret = ''\n",
    "    for x,a in zip(v,aa):\n",
    "        if x:\n",
    "            if x==1:\n",
    "                ret += a\n",
    "            else:\n",
    "                if ret=='':\n",
    "                    ret += '{}'.format(x) + a\n",
    "                else:\n",
    "                    ret += '{:+}'.format(x) + a\n",
    "    return '$' + ret + '$'\n",
    "\n",
    "def cili(v):\n",
    "    ar = r'\\mathbf{a}_\\rho'\n",
    "    ap = r'\\mathbf{a}_\\phi'\n",
    "    az = r'\\mathbf{a}_z'\n",
    "    aa = [ar,ap,az]\n",
    "    ret = ''\n",
    "    for x,a in zip(v,aa):\n",
    "        if x:\n",
    "            if x==1:\n",
    "                ret += a\n",
    "            else:\n",
    "                if ret=='':\n",
    "                    ret += '{}'.format(x) + a\n",
    "                else:\n",
    "                    ret += '{:+}'.format(x) + a\n",
    "    return '$' + ret + '$'\n",
    "\n",
    "def cesf(v):\n",
    "    ar = r'\\mathbf{a}_\\r'\n",
    "    ap = r'\\mathbf{a}_\\phi'\n",
    "    at = r'\\mathbf{a}_\\theta'\n",
    "    aa = [ar,at,ap]\n",
    "    ret = ''\n",
    "    for x,a in zip(v,aa):\n",
    "        if x:\n",
    "            if x==1:\n",
    "                ret += a\n",
    "            else:\n",
    "                if ret=='':\n",
    "                    ret += '{}'.format(x) + a\n",
    "                else:\n",
    "                    ret += '{:+}'.format(x) + a\n",
    "    return '$' + ret + '$'\n",
    "\n",
    "ar = r'\\mathbf{a}_r'\n",
    "import sympy as sp    "
   ]
  },
  {
   "cell_type": "markdown",
   "id": "492b2997",
   "metadata": {
    "variables": {
     "cili([-5,10,3])": "$-5\\mathbf{a}_\\rho+10\\mathbf{a}_\\phi+3\\mathbf{a}_z$",
     "cili([1,2,-6])": "$\\mathbf{a}_\\rho+2\\mathbf{a}_\\phi-6\\mathbf{a}_z$"
    }
   },
   "source": [
    "**Exemplo 2.3**\n",
    "\n",
    "Dois campos uniformes são dados por $\\mathbf{E}=${{cili([-5,10,3])}} e $\\mathbf{F} = ${{cili([1,2,-6])}}. Calcule:\n",
    "\n",
    "(a) $|\\mathbf{E\\times F}|$  \n",
    "(b) A componente vetorial de $\\mathbf{E}$ em $P(5, \\pi/2,3)$ paralela a linha $x=2$ e $z=3$.  \n",
    "(c) O ângulo que $\\mathbf{E}$ faz com a superfície $z=3$ em $P$"
   ]
  },
  {
   "cell_type": "markdown",
   "id": "ecb411cb",
   "metadata": {},
   "source": [
    "**Exemplo 2.4**\n",
    "\n",
    "Dado um campo vetorial:\n",
    "$$\n",
    "\\begin{align}\n",
    "    \\mathbf{D} = r\\,\\sin\\phi \\mathbf{a}_r - \\frac{1}{r}\\,\\sin\\theta \\,\\cos \\phi \\mathbf{a}_\\theta + r^2\\,\\mathbf{a}_{\\phi}\n",
    "\\end{align}\n",
    "$$\n",
    "\n",
    "Determine:  \n",
    "(a) $\\mathbf{D}$ em $P(10,150^\\circ, 330^\\circ)$  \n",
    "(b) A componente de $\\mathbf{D}$ tangencial a superfície esférica $r=10$ em $P$  \n",
    "(c) Um vetor unitário em $P$ perpendicular a $\\mathbf{D}$ e tangencial ao cone $\\theta=150^\\circ$\n"
   ]
  }
 ],
 "metadata": {
  "kernelspec": {
   "display_name": "Python 3 (ipykernel)",
   "language": "python",
   "name": "python3"
  },
  "language_info": {
   "codemirror_mode": {
    "name": "ipython",
    "version": 3
   },
   "file_extension": ".py",
   "mimetype": "text/x-python",
   "name": "python",
   "nbconvert_exporter": "python",
   "pygments_lexer": "ipython3",
   "version": "3.11.1"
  }
 },
 "nbformat": 4,
 "nbformat_minor": 5
}
