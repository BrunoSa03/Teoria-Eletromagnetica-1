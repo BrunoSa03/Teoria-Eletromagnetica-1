{
 "cells": [
  {
   "attachments": {},
   "cell_type": "markdown",
   "metadata": {},
   "source": [
    "# **Exercícios resolvidos**\n",
    "\n",
    "**Exemplo 1.4**\n",
    "\n",
    "Dados $\\mathbf{A}= 3\\mathbf{a}_x+4\\mathbf{a}_y+\\mathbf{a}_z$ e $\\mathbf{B}=2\\mathbf{a}_y-5\\mathbf{a}_z$, encontre o ângulo entre $\\mathbf{A}$ e $\\mathbf{B}$. "
   ]
  },
  {
   "cell_type": "code",
   "execution_count": 1,
   "metadata": {},
   "outputs": [],
   "source": []
  },
  {
   "attachments": {},
   "cell_type": "markdown",
   "metadata": {},
   "source": [
    "**Exemplo 1.5**: três grandezas de campo são descritas como:\n",
    "$$\n",
    "\\begin{align}\n",
    "    \\mathbf{P} &= 2\\mathbf{a}_x-\\mathbf{a}_z\\\\\n",
    "    \\mathbf{Q} &= 2\\mathbf{a}_x-\\mathbf{a}_y+2\\mathbf{a}_z\\\\\n",
    "    \\mathbf{R} &= 2\\mathbf{a}_x-3\\mathbf{a}_y+\\mathbf{a}_z\n",
    "\\end{align}\n",
    "$$\n",
    "\n",
    "Determine:\n",
    "- (a) $(\\mathbf{P+Q})\\times(\\mathbf{P-Q})$\n",
    "- (b) $\\mathbf{Q\\cdot R\\times P}$\n",
    "- (c) $\\mathbf{P\\cdot Q\\times R}$\n",
    "- (d) $\\sin \\theta_{QR}$\n",
    "- (e) $\\mathbf{P\\times (Q\\times R)}$\n",
    "- (f) Um vetor unitário perpendicular simultaneamente a $\\mathbf{Q}$ e $\\mathbf{R}$\n",
    "- (g) A componente de $\\mathbf{P}$ sobre $\\mathbf{Q}$\n"
   ]
  },
  {
   "attachments": {},
   "cell_type": "markdown",
   "metadata": {},
   "source": [
    "**Exemplo 1.6**: demonstre a lei dos cossenos\n",
    "$$\n",
    "\\begin{align}\n",
    "    a^2 = b^2+c^2-2bc\\cos A\n",
    "\\end{align}\n",
    "$$\n",
    "e a lei dos senos:\n",
    "$$\n",
    "\\begin{align}\n",
    "\\frac{\\sin A}{a}&= \\frac{\\sin B}{b} & \\frac{\\sin C}{c}\n",
    "\\end{align}\n",
    "$$\n",
    "usando os produtos escalar e vetorial, respectivamente. "
   ]
  },
  {
   "attachments": {},
   "cell_type": "markdown",
   "metadata": {},
   "source": [
    "**Exemplo 1.7:** Mostre que os pontos $P_1(5,2,-4)$, $P_2(1,1,2)$ e $P_3(-3,0,8)$ estão todos sobre a mesma linha reta. Determine a menor distância entre a linha e o ponto $P_4(3,-1,0)$. "
   ]
  }
 ],
 "metadata": {
  "kernelspec": {
   "display_name": "Python 3",
   "language": "python",
   "name": "python3"
  },
  "language_info": {
   "codemirror_mode": {
    "name": "ipython",
    "version": 3
   },
   "file_extension": ".py",
   "mimetype": "text/x-python",
   "name": "python",
   "nbconvert_exporter": "python",
   "pygments_lexer": "ipython3",
   "version": "3.10.9 (tags/v3.10.9:1dd9be6, Dec  6 2022, 20:01:21) [MSC v.1934 64 bit (AMD64)]"
  },
  "orig_nbformat": 4,
  "vscode": {
   "interpreter": {
    "hash": "e1735dd0795dce195fb98475ccf229151ed44a61fb274eb18cdb7c8302916985"
   }
  }
 },
 "nbformat": 4,
 "nbformat_minor": 2
}
