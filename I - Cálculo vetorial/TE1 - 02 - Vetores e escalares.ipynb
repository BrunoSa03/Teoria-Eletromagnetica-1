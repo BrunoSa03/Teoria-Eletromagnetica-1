{
 "cells": [
  {
   "cell_type": "markdown",
   "metadata": {},
   "source": [
    "# **Escalares e vetores**"
   ]
  },
  {
   "attachments": {},
   "cell_type": "markdown",
   "metadata": {},
   "source": [
    "Um **escalar** é uma quantidade física que possui apenas magnitude. Vamos usar letras em itálico (sem negrito) para indicar um escalar: $a$, $x$, $dy$."
   ]
  },
  {
   "attachments": {},
   "cell_type": "markdown",
   "metadata": {},
   "source": [
    "Um **vetor** é uma quantidade física que possui magnitude e direção. Um vetor será indicado com negrito, $\\mathbf{x}$ (preferencial); ou com notação de \"barra\": $\\bar{{x}}$ (apenas manuscrito). "
   ]
  },
  {
   "attachments": {},
   "cell_type": "markdown",
   "metadata": {},
   "source": [
    "Um **campo** é uma função que descreve uma quantidade física (escalar ou vetorial) em todos os lugares de uma região. Por exemplo: $f(x,y)$ (campo escalar) ou $\\mathbf{g}(x,y)$ (campo vetorial). "
   ]
  },
  {
   "attachments": {},
   "cell_type": "markdown",
   "metadata": {},
   "source": [
    "## **Vetor unitário**"
   ]
  },
  {
   "attachments": {},
   "cell_type": "markdown",
   "metadata": {},
   "source": [
    "A magnitude (ou módulo) de um vetor $\\mathbf{v}$ é denotado $v$ ou $|\\mathbf{v}|$.\n",
    "\n",
    "Um vetor unitário $\\mathbf{a}_{v}$ ao longo da direção de $\\mathbf{v}$ é definido como um vetor que tem a mesma direção de $\\mathbf{v}$ e tem **magnitude 1**, isto é $|\\mathbf{a}_v| = 1$.\n",
    "\n",
    "Definição matemática:\n",
    "$$\n",
    "\\begin{align}\n",
    "    \\mathbf{a}_v = \\frac{\\mathbf{v}}{|\\mathbf{v}|}\n",
    "\\end{align}\n",
    "$$"
   ]
  },
  {
   "attachments": {},
   "cell_type": "markdown",
   "metadata": {},
   "source": [
    "O próprio vetor $\\mathbf{v}$ pode ser escrito usando o vetor unitário de sua direção:\n",
    "$$\n",
    "\\begin{align}\n",
    "    \\mathbf{v} = |\\mathbf{v}|\\mathbf{a}_v\n",
    "\\end{align}\n",
    "$$\n"
   ]
  },
  {
   "attachments": {},
   "cell_type": "markdown",
   "metadata": {},
   "source": [
    "## **Coordenadas cartesianas**"
   ]
  },
  {
   "attachments": {},
   "cell_type": "markdown",
   "metadata": {},
   "source": [
    "Um vetor $\\mathbf{V}$ em coordenadas Cartesianas (ou retangulares) pode ser ser representado das seguintes formas:\n",
    "$$\n",
    "\\begin{align}\n",
    "    \\mathbf{V} &= (V_x,\\, V_y\\, V_z)\\quad \\text{ou: }\\\\\n",
    "    \\mathbf{V} &= V_x\\mathbf{a}_x+V_y\\mathbf{a}_y+V_z\\mathbf{a}_z\n",
    "\\end{align}\n",
    "$$"
   ]
  },
  {
   "attachments": {},
   "cell_type": "markdown",
   "metadata": {},
   "source": [
    "<p align=\"center\">\n",
    "    <img src=\"Fig1.1.svg\">\n",
    "</p>"
   ]
  },
  {
   "attachments": {},
   "cell_type": "markdown",
   "metadata": {},
   "source": [
    "Os números reais $V_x$, $V_y$ e $V_z$ são chamados **componentes** do vetor nas direções $x$, $y$ e $z$ respectivamente. Essas direções são representadas pelos vetores unitários $\\mathbf{a}_x$, $\\mathbf{a}_y$ e $\\mathbf{a}_z$. "
   ]
  },
  {
   "attachments": {},
   "cell_type": "markdown",
   "metadata": {},
   "source": [
    "A magnitude do vetor $\\mathbf{V}$ é dada por:\n",
    "$$\n",
    "\\begin{align}\n",
    "    |\\mathbf{V}| = \\sqrt{V_x^2+V_y^2+V_x^2}\n",
    "\\end{align}\n",
    "$$"
   ]
  },
  {
   "attachments": {},
   "cell_type": "markdown",
   "metadata": {},
   "source": [
    "O vetor unitário na direção de $\\mathbf{V}$ pode ser achado como:\n",
    "$$\n",
    "\\begin{align}\n",
    "\\mathbf{a}_v &= \\frac{V_x\\mathbf{a}_x+V_y\\mathbf{a}_y+V_z\\mathbf{a}_z}{\\sqrt{V_x^2+V_y^2+V_x^2}}\n",
    "\\end{align}\n",
    "$$"
   ]
  }
 ],
 "metadata": {
  "kernelspec": {
   "display_name": "Python 3",
   "language": "python",
   "name": "python3"
  },
  "language_info": {
   "name": "python",
   "version": "3.10.9 (tags/v3.10.9:1dd9be6, Dec  6 2022, 20:01:21) [MSC v.1934 64 bit (AMD64)]"
  },
  "orig_nbformat": 4,
  "vscode": {
   "interpreter": {
    "hash": "e1735dd0795dce195fb98475ccf229151ed44a61fb274eb18cdb7c8302916985"
   }
  }
 },
 "nbformat": 4,
 "nbformat_minor": 2
}
