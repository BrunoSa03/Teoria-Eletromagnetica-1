{
 "cells": [
  {
   "attachments": {},
   "cell_type": "markdown",
   "id": "3a85463a",
   "metadata": {
    "tags": []
   },
   "source": [
    "$%Macros$\n",
    "$\\newcommand{\\ax}{\\mathbf{a}_x}$\n",
    "$\\newcommand{\\ay}{\\mathbf{a}_y}$\n",
    "$\\newcommand{\\az}{\\mathbf{a}_z}$\n",
    "$\\newcommand{\\arho}{\\mathbf{a}_\\rho}$\n",
    "$\\newcommand{\\ap}{\\mathbf{a}_\\phi}$\n",
    "$\\newcommand{\\ar}{\\mathbf{a}_r}$\n",
    "$\\newcommand{\\at}{\\mathbf{a}_\\theta}$\n",
    "$\\newcommand{\\grad}[1]{\\nabla #1}$\n",
    "$\\renewcommand{\\div}[1]{\\mathbf{\\nabla} \\cdot \\mathbf{#1}}$\n",
    "$\\newcommand{\\rot}[1]{\\mathbf{\\nabla} \\times \\mathbf{#1}}$\n",
    "$\\newcommand{\\parcial}[2]{\\frac{\\partial #1}{\\partial #2}}$"
   ]
  },
  {
   "cell_type": "markdown",
   "id": "b25518e0",
   "metadata": {},
   "source": [
    "# Divergente de um vetor"
   ]
  },
  {
   "cell_type": "markdown",
   "id": "27ae18f6",
   "metadata": {},
   "source": [
    "Anteriormente definimos o fluxo líquido de um campo $\\mathbf{A}$ saindo de uma superfície fechada $S$ como a integral $\\oint \\mathbf{A}\\cdot d \\mathbf{S}$. \n",
    "\n",
    "Lembre-se que uma superfície fechada define um volume no espaço. \n",
    "\n",
    "O divergente de um vetor $\\mathbf{A}$ em um dado ponto $P$ é o fluxo de saída por unidade de volume à medida que esse volume diminui.  \n",
    "$$\n",
    "\\begin{align}\n",
    "    \\text{div }\\mathbf{A} = \\div{A} = \\lim_{\\Delta v\\rightarrow 0} \\frac{\\displaystyle\\oint_S \\mathbf{A}\\cdot d\\mathbf{S}}{\\Delta v}\n",
    "\\end{align}\n",
    "$$\n",
    "\n",
    "<p align=\"center\">\n",
    "    <img src=\"Fig3.15.svg\">\n",
    "</p>"
   ]
  },
  {
   "cell_type": "markdown",
   "id": "3055113d",
   "metadata": {},
   "source": [
    "Fisicamente, a divergência do campo vetorial $\\mathbf{A}$ em um determinado representa uma medida de quanto o campo diverge ou emana ou se origina desse ponto. A Figura 3.15(a) mostra que a divergência de um campo vetorial no ponto $P$ é positiva porque o vetor diverge (ou se espalha) em $P$.\n",
    "\n",
    "Na Figura 3.15(b) um campo vetorial tem divergência negativa (ou convergência) em $P$, e na Figura\n",
    "3.15(c) um campo vetorial tem divergência zero em $P$. A divergência de um campo vetorial também pode ser vista simplesmente como o limite da intensidade da fonte do campo por unidade de volume (ou densidade da fonte); é positivo em um ponto fonte no campo e negativo em um ponto sumidouro, ou zero onde há nem sumidouro nem fonte."
   ]
  },
  {
   "cell_type": "markdown",
   "id": "ec26f94d",
   "metadata": {
    "jupyter": {
     "source_hidden": true
    },
    "tags": []
   },
   "source": [
    "A divergência de um campo $\\mathbf{A}$ pode ser deduzida em coordenadas cartesianas usando argumentos geométricos, que resulta exatamente na definição já apresentada:\n",
    "$$\n",
    "\\begin{align}\n",
    "    \\div{A} = \\parcial{A_x}{x}+\\parcial{A_y}{y}+\\parcial{A_z}{z}\n",
    "\\end{align}\n",
    "$$\n",
    "\n",
    "Em coordenadas cilíndricas:\n",
    "$$\n",
    "\\begin{align}\n",
    "    \\div{A} = \\frac{1}{\\rho}\\parcial{(\\rho A_\\rho)}{\\rho}+\\frac{1}{\\rho}\\parcial{A_\\phi}{\\phi}+\\parcial{A_z}{z}\n",
    "\\end{align}\n",
    "$$\n",
    "\n",
    "Em coordenadas esféricas:\n",
    "$$\n",
    "\\begin{align}\n",
    "    \\div{A} = \\frac{1}{r^2}\\parcial{(r^2 A_r)}{r}+\\frac{1}{(r\\,\\sin \\theta)}\\parcial{A_\\theta \\sin \\theta}{\\theta}+\\frac{1}{r\\sin \\theta}\\parcial{A_\\phi}{\\phi}\n",
    "\\end{align}\n",
    "$$\n",
    "\n",
    "**Propriedades**  \n",
    "- $\\div{(A+B)} = \\div{A}+\\div{B}$  \n",
    "- $\\div{(VA)} = V \\div{A} + \\mathbf{A}\\cdot \\grad{V}$"
   ]
  },
  {
   "cell_type": "markdown",
   "id": "3595d232",
   "metadata": {},
   "source": [
    "## Teorema da divergência"
   ]
  },
  {
   "cell_type": "markdown",
   "id": "857c9696",
   "metadata": {},
   "source": [
    "O fluxo total de saída  de um vetor $\\mathbf{A}$ em uma superfície fechada $S$ é igual à integral de volume da divergência de $\\mathbf{A}$ neste volume. \n",
    "$$\n",
    "\\begin{align}\n",
    "    \\oint_S \\mathbf{A}\\cdot d\\mathbf{S} = \\int_v \\div{A}dv\n",
    "\\end{align}\n",
    "$$"
   ]
  },
  {
   "cell_type": "markdown",
   "id": "3d83666c",
   "metadata": {},
   "source": [
    "**Exemplo 3.6:** Determine a divergência dos campos vetoriais:  \n",
    "(a) $\\mathbf{P} = x^2yz\\,\\ax+xz\\,\\az$  \n",
    "(b) $\\mathbf{Q} = \\rho \\,\\sin\\phi\\,\\arho+\\rho^2z\\,\\ap+z\\cos\\phi \\,\\az$  \n",
    "(c) $\\mathbf{T} = \\displaystyle\\frac{\\cos\\theta}{r^2}\\,\\ar+r\\, \\sin \\theta\\, \\cos \\phi\\, \\at+\\cos \\theta\\, \\ap$"
   ]
  },
  {
   "cell_type": "code",
   "execution_count": null,
   "id": "974fc7bb",
   "metadata": {},
   "outputs": [],
   "source": []
  },
  {
   "cell_type": "markdown",
   "id": "609e4967",
   "metadata": {},
   "source": [
    "**Exemplo 3.7:** Se $\\mathbf{G}(r)= 10e^{-2z}(\\rho \\arho+\\az)$, determine o fluxo $\\mathbf{G}$ em toda a superfície do cilindro $\\rho =1 $, $0\\leq z \\leq 1$. Confirme o resultado pelo teorema da divergência. \n",
    "\n",
    "<p align=\"center\">\n",
    "    <img src=\"Fig3.18.svg\">\n",
    "</p>"
   ]
  }
 ],
 "metadata": {
  "kernelspec": {
   "display_name": "Python 3 (ipykernel)",
   "language": "python",
   "name": "python3"
  },
  "language_info": {
   "codemirror_mode": {
    "name": "ipython",
    "version": 3
   },
   "file_extension": ".py",
   "mimetype": "text/x-python",
   "name": "python",
   "nbconvert_exporter": "python",
   "pygments_lexer": "ipython3",
   "version": "3.11.1"
  }
 },
 "nbformat": 4,
 "nbformat_minor": 5
}
